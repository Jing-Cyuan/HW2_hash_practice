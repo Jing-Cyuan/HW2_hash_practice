{
 "cells": [
  {
   "cell_type": "code",
   "execution_count": 5,
   "id": "43014718-cdcc-401a-b592-abd6ead48cb6",
   "metadata": {
    "tags": []
   },
   "outputs": [
    {
     "name": "stdout",
     "output_type": "stream",
     "text": [
      "總共有 10 個不重複的英文字:\n",
      "詞彙 Coke 出現次數: 145\n",
      "詞彙 Taco 出現次數: 57\n",
      "詞彙 Fries 出現次數: 76\n",
      "詞彙 Pho 出現次數: 19\n",
      "詞彙 Potato 出現次數: 3\n",
      "詞彙 Rib 出現次數: 33\n",
      "詞彙 Burger 出現次數: 196\n",
      "詞彙 Cheese 出現次數: 234\n",
      "詞彙 Steak 出現次數: 46\n",
      "詞彙 Pizza 出現次數: 83\n"
     ]
    }
   ],
   "source": [
    "def hash_function(key):\n",
    "    # 將詞彙轉換為ASCII碼，加總後除以100取餘數作為 Hash value\n",
    "    ascii_sum = sum(ord(char) for char in key)\n",
    "    return ascii_sum % 100\n",
    "\n",
    "def count_unique_words(data):\n",
    "    # 初始化一個空字典用於統計詞彙出現次數\n",
    "    word_count = {}\n",
    "    # 初始化一個空集合用於記錄不重複的英文字\n",
    "    unique_words = set()\n",
    "\n",
    "    # 逐行讀取資料\n",
    "    for line in data.split('\\n'):\n",
    "        # 如果行為空，跳過此行\n",
    "        if not line:\n",
    "            continue\n",
    "        \n",
    "        # 取得詞彙\n",
    "        word = line.strip()\n",
    "\n",
    "        # 更新詞彙出現次數\n",
    "        if word in word_count:\n",
    "            word_count[word] += 1\n",
    "        else:\n",
    "            word_count[word] = 1\n",
    "        \n",
    "        # 將詞彙加入不重複的集合\n",
    "        unique_words.add(word)\n",
    "\n",
    "    return word_count, unique_words\n",
    "\n",
    "def main():\n",
    "    # 讀取資料\n",
    "    with open('hw2_data.txt', 'r', encoding='utf-8') as file:\n",
    "        data = file.read()\n",
    "\n",
    "    # 呼叫函式計算結果\n",
    "    word_count, unique_words = count_unique_words(data)\n",
    "\n",
    "    # 顯示統計結果\n",
    "    print(\"總共有\", len(unique_words), \"個不重複的英文字:\")\n",
    "    for word in unique_words:\n",
    "        count = word_count[word]\n",
    "        print(\"詞彙\", word, \"出現次數:\", count)\n",
    "\n",
    "if __name__ == \"__main__\":\n",
    "    main()\n"
   ]
  },
  {
   "cell_type": "code",
   "execution_count": null,
   "id": "d69fd104-2fb2-48ce-98e6-66f8c63d4f6c",
   "metadata": {},
   "outputs": [],
   "source": []
  }
 ],
 "metadata": {
  "kernelspec": {
   "display_name": "Python 3 (ipykernel)",
   "language": "python",
   "name": "python3"
  },
  "language_info": {
   "codemirror_mode": {
    "name": "ipython",
    "version": 3
   },
   "file_extension": ".py",
   "mimetype": "text/x-python",
   "name": "python",
   "nbconvert_exporter": "python",
   "pygments_lexer": "ipython3",
   "version": "3.8.18"
  }
 },
 "nbformat": 4,
 "nbformat_minor": 5
}
